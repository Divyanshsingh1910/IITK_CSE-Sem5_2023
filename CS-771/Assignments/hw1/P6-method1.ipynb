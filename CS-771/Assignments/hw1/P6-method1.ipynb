{
 "cells": [
  {
   "cell_type": "code",
   "execution_count": 1,
   "metadata": {},
   "outputs": [],
   "source": [
    "import numpy as np"
   ]
  },
  {
   "cell_type": "markdown",
   "metadata": {},
   "source": [
    "```\n",
    "X_seen=np.load('X_seen.npy') \t(40 x N_i x D): 40 feature matrices. X_seen[i] is the N_i x D feature matrix of seen class i\n",
    "\n",
    "Xtest=np.load('Xtest.npy')\t(6180, 4096): feature matrix of the test data.\n",
    "\n",
    "Ytest=np.load('Ytest.npy',)\t(6180, 1): ground truth labels of the test data\n",
    "\n",
    "class_attributes_seen=np.load('class_attributes_seen.npy')\t(40, 85): 40x85 matrix with each row being the 85-dimensional class attribute vector of a seen class.\n",
    "\n",
    "class_attributes_unseen=np.load('class_attributes_unseen.npy')\t(10, 85): 10x85 matrix with each row being the 85-dimensional class attribute vector of an  unseen class.\n",
    "\n",
    "\n",
    "```"
   ]
  },
  {
   "cell_type": "markdown",
   "metadata": {},
   "source": [
    "# **METHOD 1**"
   ]
  },
  {
   "cell_type": "code",
   "execution_count": 2,
   "metadata": {},
   "outputs": [],
   "source": [
    "X_seen=np.load('data/AwA_python/X_seen.npy',encoding='bytes',allow_pickle=True) #\t(40 x N_i x D): 40 feature matrices. X_seen[i] is the N_i x D feature matrix of seen class i\n"
   ]
  },
  {
   "cell_type": "code",
   "execution_count": 7,
   "metadata": {},
   "outputs": [
    {
     "name": "stdout",
     "output_type": "stream",
     "text": [
      "(546, 4096)\n",
      "(401, 4096)\n",
      "(185, 4096)\n",
      "(261, 4096)\n",
      "(641, 4096)\n"
     ]
    }
   ],
   "source": [
    "for i in range(5):\n",
    "    print(X_seen[i].shape)"
   ]
  },
  {
   "cell_type": "code",
   "execution_count": 11,
   "metadata": {},
   "outputs": [
    {
     "data": {
      "text/plain": [
       "(4096,)"
      ]
     },
     "execution_count": 11,
     "metadata": {},
     "output_type": "execute_result"
    }
   ],
   "source": [
    "# mean_0 = np.mean(X_seen[0],axis=0)\n",
    "# mean_0.shape"
   ]
  },
  {
   "cell_type": "code",
   "execution_count": null,
   "metadata": {},
   "outputs": [],
   "source": [
    "# Mean will store the mean of each class so shape of Mean is (40,4096,)\n",
    "Mean = np.zeros((40,4096))\n",
    "\n",
    "for i in range(40):\n",
    "    Mean[i] = np.mean(X_seen[i],axis=0)\n",
    "    print(Mean[i].shape)"
   ]
  },
  {
   "cell_type": "code",
   "execution_count": 10,
   "metadata": {},
   "outputs": [
    {
     "name": "stdout",
     "output_type": "stream",
     "text": [
      "(40, 4096)\n"
     ]
    }
   ],
   "source": [
    "print(Mean.shape)"
   ]
  },
  {
   "cell_type": "code",
   "execution_count": 11,
   "metadata": {},
   "outputs": [
    {
     "name": "stdout",
     "output_type": "stream",
     "text": [
      "(40, 85)\n"
     ]
    }
   ],
   "source": [
    "Attr=np.load('data/AwA_python/class_attributes_seen.npy',encoding='bytes',allow_pickle=True) \n",
    "print(Attr.shape)"
   ]
  },
  {
   "cell_type": "code",
   "execution_count": 12,
   "metadata": {},
   "outputs": [
    {
     "name": "stdout",
     "output_type": "stream",
     "text": [
      "(10, 85)\n"
     ]
    }
   ],
   "source": [
    "UAttr=np.load('data/AwA_python/class_attributes_unseen.npy',encoding='bytes',allow_pickle=True) \n",
    "print(UAttr.shape)"
   ]
  },
  {
   "cell_type": "code",
   "execution_count": 39,
   "metadata": {},
   "outputs": [
    {
     "name": "stdout",
     "output_type": "stream",
     "text": [
      "(10, 40)\n"
     ]
    }
   ],
   "source": [
    "MAtrr = np.matmul(UAttr,Attr.T)  #MAttr is of shape (10,40) each row containg all the Sc,k without normalizing\n",
    "print(MAtrr.shape)"
   ]
  },
  {
   "cell_type": "code",
   "execution_count": 40,
   "metadata": {},
   "outputs": [],
   "source": [
    "MAtrr = MAtrr.astype(float) #converting values to floating point before normalization\n",
    "row_Sum = np.sum(MAtrr,axis=1,dtype=float) #calculation the \\sum(Sc,l) for each of the 40 l'set\n"
   ]
  },
  {
   "cell_type": "code",
   "execution_count": 41,
   "metadata": {},
   "outputs": [
    {
     "name": "stdout",
     "output_type": "stream",
     "text": [
      "Shape of MAttr is  (10, 40)\n"
     ]
    },
    {
     "data": {
      "text/plain": [
       "array([[0.02719407, 0.03337454, 0.02224969, 0.01359703, 0.02719407,\n",
       "        0.02224969, 0.02348578, 0.02348578, 0.02348578, 0.02719407,\n",
       "        0.03090235, 0.0197775 , 0.02224969, 0.02719407, 0.02843016,\n",
       "        0.02348578, 0.03584672, 0.02595797, 0.02348578, 0.03090235,\n",
       "        0.01606922, 0.03090235, 0.02472188, 0.02719407, 0.02472188,\n",
       "        0.02224969, 0.02348578, 0.02224969, 0.02595797, 0.01606922,\n",
       "        0.01730532, 0.02719407, 0.0197775 , 0.03461063, 0.02472188,\n",
       "        0.02966625, 0.01606922, 0.02719407, 0.02966625, 0.02843016],\n",
       "       [0.02028986, 0.02318841, 0.02463768, 0.01884058, 0.02318841,\n",
       "        0.02318841, 0.02028986, 0.02173913, 0.03043478, 0.02753623,\n",
       "        0.02753623, 0.01594203, 0.02463768, 0.02463768, 0.02463768,\n",
       "        0.02318841, 0.02753623, 0.02898551, 0.03043478, 0.02753623,\n",
       "        0.01449275, 0.02753623, 0.02753623, 0.02753623, 0.02463768,\n",
       "        0.02318841, 0.02898551, 0.02898551, 0.03188406, 0.02173913,\n",
       "        0.02463768, 0.02753623, 0.02463768, 0.02898551, 0.02753623,\n",
       "        0.03043478, 0.01884058, 0.02028986, 0.02753623, 0.02463768],\n",
       "       [0.02477477, 0.02027027, 0.02927928, 0.03603604, 0.01576577,\n",
       "        0.02702703, 0.01576577, 0.01801802, 0.02927928, 0.02477477,\n",
       "        0.02252252, 0.02702703, 0.03828829, 0.02027027, 0.02252252,\n",
       "        0.02702703, 0.02702703, 0.02927928, 0.02252252, 0.02702703,\n",
       "        0.02027027, 0.02252252, 0.02477477, 0.03378378, 0.01801802,\n",
       "        0.02027027, 0.03828829, 0.03378378, 0.02027027, 0.03378378,\n",
       "        0.02252252, 0.02477477, 0.02027027, 0.02252252, 0.02027027,\n",
       "        0.02252252, 0.03153153, 0.01801802, 0.02252252, 0.02477477],\n",
       "       [0.02169197, 0.02386117, 0.03253796, 0.05639913, 0.01518438,\n",
       "        0.02386117, 0.01735358, 0.01518438, 0.02603037, 0.02603037,\n",
       "        0.02169197, 0.04338395, 0.03036876, 0.01735358, 0.02169197,\n",
       "        0.02169197, 0.02169197, 0.02603037, 0.01735358, 0.02819957,\n",
       "        0.04121475, 0.02169197, 0.01735358, 0.03036876, 0.01518438,\n",
       "        0.03253796, 0.03036876, 0.03253796, 0.02169197, 0.02169197,\n",
       "        0.01735358, 0.02386117, 0.01735358, 0.02386117, 0.01301518,\n",
       "        0.01952278, 0.04555315, 0.01735358, 0.02603037, 0.02386117],\n",
       "       [0.02340702, 0.02860858, 0.02340702, 0.01430429, 0.03771131,\n",
       "        0.01820546, 0.02470741, 0.0260078 , 0.01950585, 0.02990897,\n",
       "        0.02990897, 0.01560468, 0.01560468, 0.03641092, 0.03641092,\n",
       "        0.02340702, 0.02860858, 0.03250975, 0.02340702, 0.0260078 ,\n",
       "        0.02080624, 0.03641092, 0.02470741, 0.02210663, 0.01950585,\n",
       "        0.02470741, 0.01950585, 0.02730819, 0.02210663, 0.0130039 ,\n",
       "        0.01170351, 0.03511053, 0.01820546, 0.02730819, 0.02210663,\n",
       "        0.03641092, 0.01170351, 0.03120936, 0.03771131, 0.02470741],\n",
       "       [0.01774194, 0.02258065, 0.02741935, 0.02096774, 0.02741935,\n",
       "        0.01612903, 0.03225806, 0.03064516, 0.02258065, 0.02903226,\n",
       "        0.01935484, 0.02096774, 0.01935484, 0.03064516, 0.03064516,\n",
       "        0.01612903, 0.01935484, 0.02741935, 0.03225806, 0.02419355,\n",
       "        0.01451613, 0.02580645, 0.02903226, 0.02258065, 0.02741935,\n",
       "        0.02741935, 0.02580645, 0.03225806, 0.02903226, 0.01451613,\n",
       "        0.02258065, 0.04032258, 0.02741935, 0.02258065, 0.02741935,\n",
       "        0.02741935, 0.01774194, 0.02903226, 0.03064516, 0.01935484],\n",
       "       [0.02431611, 0.02279635, 0.01823708, 0.02279635, 0.01823708,\n",
       "        0.02887538, 0.0212766 , 0.0212766 , 0.03799392, 0.02735562,\n",
       "        0.02887538, 0.0212766 , 0.02887538, 0.01975684, 0.02583587,\n",
       "        0.02887538, 0.02583587, 0.02431611, 0.02887538, 0.03495441,\n",
       "        0.01975684, 0.02279635, 0.02279635, 0.03191489, 0.02431611,\n",
       "        0.01519757, 0.03647416, 0.02431611, 0.02887538, 0.02583587,\n",
       "        0.02735562, 0.02583587, 0.02279635, 0.02279635, 0.01823708,\n",
       "        0.0212766 , 0.02279635, 0.02279635, 0.02583587, 0.02735562],\n",
       "       [0.02021563, 0.03234501, 0.02560647, 0.01212938, 0.03369272,\n",
       "        0.0148248 , 0.02695418, 0.02560647, 0.02021563, 0.02695418,\n",
       "        0.02695418, 0.0148248 , 0.01212938, 0.03638814, 0.0296496 ,\n",
       "        0.01617251, 0.02560647, 0.0296496 , 0.03234501, 0.02425876,\n",
       "        0.01752022, 0.02695418, 0.0309973 , 0.02021563, 0.0296496 ,\n",
       "        0.02560647, 0.01886792, 0.0296496 , 0.02830189, 0.01078167,\n",
       "        0.01617251, 0.03504043, 0.0296496 , 0.02695418, 0.0309973 ,\n",
       "        0.03234501, 0.01078167, 0.03369272, 0.03638814, 0.02291105],\n",
       "       [0.01818182, 0.03246753, 0.02467532, 0.01038961, 0.03246753,\n",
       "        0.01688312, 0.02857143, 0.02597403, 0.01948052, 0.02337662,\n",
       "        0.02337662, 0.01298701, 0.01168831, 0.03636364, 0.03116883,\n",
       "        0.01558442, 0.02467532, 0.02857143, 0.03376623, 0.02597403,\n",
       "        0.01688312, 0.02987013, 0.03636364, 0.02077922, 0.03246753,\n",
       "        0.02857143, 0.02077922, 0.02857143, 0.02857143, 0.01168831,\n",
       "        0.01558442, 0.03246753, 0.02727273, 0.02467532, 0.02727273,\n",
       "        0.03376623, 0.01298701, 0.03766234, 0.03636364, 0.02077922],\n",
       "       [0.01960784, 0.02673797, 0.0285205 , 0.03743316, 0.02139037,\n",
       "        0.01782531, 0.02139037, 0.02495544, 0.0285205 , 0.0285205 ,\n",
       "        0.02317291, 0.03921569, 0.02139037, 0.02139037, 0.02495544,\n",
       "        0.02139037, 0.01960784, 0.02317291, 0.02317291, 0.03030303,\n",
       "        0.03743316, 0.02139037, 0.01960784, 0.02317291, 0.02317291,\n",
       "        0.03386809, 0.02673797, 0.03208556, 0.02673797, 0.01604278,\n",
       "        0.01604278, 0.03030303, 0.01782531, 0.02495544, 0.01782531,\n",
       "        0.02139037, 0.03565062, 0.02139037, 0.0285205 , 0.02317291]])"
      ]
     },
     "execution_count": 41,
     "metadata": {},
     "output_type": "execute_result"
    }
   ],
   "source": [
    "# Normalizing the values\n",
    "\n",
    "for i in range(row_Sum.shape[0]):\n",
    "    for j in range(MAtrr.shape[1]):\n",
    "        MAtrr[i][j] = MAtrr[i][j]/row_Sum[i]\n",
    "\n",
    "print(\"Shape of MAttr is \",MAtrr.shape)\n",
    "MAtrr"
   ]
  },
  {
   "cell_type": "code",
   "execution_count": 42,
   "metadata": {},
   "outputs": [
    {
     "data": {
      "text/plain": [
       "array([1., 1.])"
      ]
     },
     "execution_count": 42,
     "metadata": {},
     "output_type": "execute_result"
    }
   ],
   "source": [
    "New_row_sum = np.sum(MAtrr,axis=1,dtype=float)\n",
    "np.unique(New_row_sum)"
   ]
  },
  {
   "cell_type": "code",
   "execution_count": 17,
   "metadata": {},
   "outputs": [
    {
     "data": {
      "text/plain": [
       "(10, 4096)"
      ]
     },
     "execution_count": 17,
     "metadata": {},
     "output_type": "execute_result"
    }
   ],
   "source": [
    "# UMean will store the mean of unseen classes\n",
    "# UMean = MAttr x Mean, UMean will be of shape 10,40\n",
    "\n",
    "UMean = np.matmul(MAtrr,Mean)\n",
    "UMean.shape"
   ]
  },
  {
   "cell_type": "code",
   "execution_count": 44,
   "metadata": {},
   "outputs": [
    {
     "name": "stdout",
     "output_type": "stream",
     "text": [
      "[[0.00956931 0.00578741 0.00450361 ... 0.00286817 0.00362628 0.00078437]\n",
      " [0.01010446 0.00548777 0.00471963 ... 0.0029623  0.00346683 0.00076367]\n",
      " [0.01051258 0.00555565 0.00409182 ... 0.00272386 0.00339272 0.00079447]\n",
      " ...\n",
      " [0.00967957 0.0049509  0.00488979 ... 0.00304286 0.00356799 0.00068678]\n",
      " [0.00986543 0.00463587 0.00490455 ... 0.00307515 0.00357683 0.00071786]\n",
      " [0.00976548 0.00520053 0.00437291 ... 0.00294264 0.00345147 0.0008368 ]]\n"
     ]
    }
   ],
   "source": [
    "print(UMean)"
   ]
  },
  {
   "cell_type": "code",
   "execution_count": 18,
   "metadata": {},
   "outputs": [
    {
     "name": "stdout",
     "output_type": "stream",
     "text": [
      "Shape of Xtest  (6180, 4096)\n",
      "Shape of Ytest  (6180, 1)\n"
     ]
    }
   ],
   "source": [
    "Xtest=np.load('data/AwA_python/Xtest.npy',encoding='bytes',allow_pickle=True)\n",
    "Ytest=np.load('data/AwA_python/Ytest.npy',encoding='bytes',allow_pickle=True)\n",
    "\n",
    "print(\"Shape of Xtest \",Xtest.shape)\n",
    "print(\"Shape of Ytest \",Ytest.shape)"
   ]
  },
  {
   "cell_type": "code",
   "execution_count": 24,
   "metadata": {},
   "outputs": [
    {
     "data": {
      "text/plain": [
       "5.196152422706632"
      ]
     },
     "execution_count": 24,
     "metadata": {},
     "output_type": "execute_result"
    }
   ],
   "source": [
    "array1 = np.array([1, 2, 3])\n",
    "array2 = np.array([4, 5, 6])\n",
    "\n",
    "# Calculate the L2 \n",
    "np.linalg.norm(array1 - array2)"
   ]
  },
  {
   "cell_type": "code",
   "execution_count": 25,
   "metadata": {},
   "outputs": [
    {
     "name": "stdout",
     "output_type": "stream",
     "text": [
      "N is  6180\n",
      "Shape of D is  (6180, 10)\n"
     ]
    }
   ],
   "source": [
    "\n",
    "# for each x* I need to calc := (x*.T).x* + (mu_c.T).mu_c -2.(x*.T).mu_c\n",
    "N = Xtest.shape[0]\n",
    "\n",
    "print(\"N is \",N)\n",
    "\n",
    "D = np.ones((N,10),dtype=float)\n",
    "\n",
    "for i in range(N):\n",
    "    xi = Xtest[i]\n",
    "    for uc in range(UMean.shape[0]):\n",
    "        D[i][uc] = np.linalg.norm(xi-UMean[uc])\n",
    "\n",
    "print(\"Shape of D is \",D.shape)\n",
    "\n"
   ]
  },
  {
   "cell_type": "code",
   "execution_count": 67,
   "metadata": {},
   "outputs": [
    {
     "data": {
      "text/plain": [
       "array([[0.849205  , 0.84718626, 0.82159414, ..., 0.85170216, 0.85358949,\n",
       "        0.80269328],\n",
       "       [0.85542901, 0.85433539, 0.87578524, ..., 0.83900325, 0.83775277,\n",
       "        0.85959313],\n",
       "       [0.80091319, 0.80100203, 0.79302459, ..., 0.81242168, 0.81098014,\n",
       "        0.80303427],\n",
       "       ...,\n",
       "       [0.72689747, 0.72379348, 0.70842298, ..., 0.72668863, 0.72595657,\n",
       "        0.69191626],\n",
       "       [0.64571046, 0.64245504, 0.64150192, ..., 0.65092408, 0.65131101,\n",
       "        0.65358333],\n",
       "       [0.8371517 , 0.84133678, 0.86457307, ..., 0.8136665 , 0.81435309,\n",
       "        0.8430163 ]])"
      ]
     },
     "execution_count": 67,
     "metadata": {},
     "output_type": "execute_result"
    }
   ],
   "source": [
    "D"
   ]
  },
  {
   "cell_type": "code",
   "execution_count": 43,
   "metadata": {},
   "outputs": [],
   "source": [
    "Ypredicted = np.argmin(D,axis = 1) + 1"
   ]
  },
  {
   "cell_type": "code",
   "execution_count": 72,
   "metadata": {},
   "outputs": [
    {
     "data": {
      "text/plain": [
       "(array([ 1,  2,  3,  4,  5,  6,  7,  8,  9, 10]),\n",
       " array([  94,    5,  344, 2416,  421,  413,  681,  823,  861,  122]))"
      ]
     },
     "execution_count": 72,
     "metadata": {},
     "output_type": "execute_result"
    }
   ],
   "source": [
    "np.unique(Ypredicted,return_counts=True)"
   ]
  },
  {
   "cell_type": "code",
   "execution_count": 33,
   "metadata": {},
   "outputs": [
    {
     "name": "stdout",
     "output_type": "stream",
     "text": [
      "(6180,)\n"
     ]
    },
    {
     "data": {
      "text/plain": [
       "array([ 4.,  6.,  1., ..., 10.,  2.,  8.])"
      ]
     },
     "execution_count": 33,
     "metadata": {},
     "output_type": "execute_result"
    }
   ],
   "source": [
    "Ytrue = Ytest.reshape(-1,)\n",
    "print(Ytrue.shape)\n",
    "Ytrue"
   ]
  },
  {
   "cell_type": "code",
   "execution_count": 44,
   "metadata": {},
   "outputs": [],
   "source": [
    "equal = (Ypredicted == Ytrue)\n",
    "C = np.sum(equal)"
   ]
  },
  {
   "cell_type": "code",
   "execution_count": 31,
   "metadata": {},
   "outputs": [
    {
     "data": {
      "text/plain": [
       "(6180,)"
      ]
     },
     "execution_count": 31,
     "metadata": {},
     "output_type": "execute_result"
    }
   ],
   "source": [
    "Ypredicted.shape"
   ]
  },
  {
   "cell_type": "code",
   "execution_count": 46,
   "metadata": {},
   "outputs": [
    {
     "data": {
      "text/plain": [
       "0.46893203883495144"
      ]
     },
     "execution_count": 46,
     "metadata": {},
     "output_type": "execute_result"
    }
   ],
   "source": [
    "C/N"
   ]
  },
  {
   "cell_type": "markdown",
   "metadata": {},
   "source": [
    "# **METHOD 2**"
   ]
  },
  {
   "cell_type": "code",
   "execution_count": null,
   "metadata": {},
   "outputs": [],
   "source": []
  }
 ],
 "metadata": {
  "kernelspec": {
   "display_name": "Python 3",
   "language": "python",
   "name": "python3"
  },
  "language_info": {
   "codemirror_mode": {
    "name": "ipython",
    "version": 3
   },
   "file_extension": ".py",
   "mimetype": "text/x-python",
   "name": "python",
   "nbconvert_exporter": "python",
   "pygments_lexer": "ipython3",
   "version": "3.10.12"
  },
  "orig_nbformat": 4
 },
 "nbformat": 4,
 "nbformat_minor": 2
}
