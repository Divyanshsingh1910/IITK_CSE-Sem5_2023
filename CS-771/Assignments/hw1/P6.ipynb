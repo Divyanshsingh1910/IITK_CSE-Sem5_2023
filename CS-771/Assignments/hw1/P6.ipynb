{
 "cells": [
  {
   "cell_type": "code",
   "execution_count": 2,
   "metadata": {},
   "outputs": [],
   "source": [
    "import numpy as np"
   ]
  },
  {
   "cell_type": "markdown",
   "metadata": {},
   "source": [
    "```\n",
    "X_seen=np.load('X_seen.npy') \t(40 x N_i x D): 40 feature matrices. X_seen[i] is the N_i x D feature matrix of seen class i\n",
    "\n",
    "Xtest=np.load('Xtest.npy')\t(6180, 4096): feature matrix of the test data.\n",
    "\n",
    "Ytest=np.load('Ytest.npy',)\t(6180, 1): ground truth labels of the test data\n",
    "\n",
    "class_attributes_seen=np.load('class_attributes_seen.npy')\t(40, 85): 40x85 matrix with each row being the 85-dimensional class attribute vector of a seen class.\n",
    "\n",
    "class_attributes_unseen=np.load('class_attributes_unseen.npy')\t(10, 85): 10x85 matrix with each row being the 85-dimensional class attribute vector of an  unseen class.\n",
    "\n",
    "\n",
    "```"
   ]
  },
  {
   "cell_type": "code",
   "execution_count": 4,
   "metadata": {},
   "outputs": [],
   "source": [
    "X_seen=np.load('data/AwA_python/X_seen.npy',encoding='bytes',allow_pickle=True) #\t(40 x N_i x D): 40 feature matrices. X_seen[i] is the N_i x D feature matrix of seen class i\n"
   ]
  },
  {
   "cell_type": "code",
   "execution_count": 9,
   "metadata": {},
   "outputs": [
    {
     "data": {
      "text/plain": [
       "(546, 4096)"
      ]
     },
     "execution_count": 9,
     "metadata": {},
     "output_type": "execute_result"
    }
   ],
   "source": [
    "X_seen[0].shape"
   ]
  },
  {
   "cell_type": "code",
   "execution_count": 11,
   "metadata": {},
   "outputs": [
    {
     "data": {
      "text/plain": [
       "(4096,)"
      ]
     },
     "execution_count": 11,
     "metadata": {},
     "output_type": "execute_result"
    }
   ],
   "source": [
    "mean_0 = np.mean(X_seen[0],axis=0)\n",
    "mean_0.shape"
   ]
  },
  {
   "cell_type": "code",
   "execution_count": null,
   "metadata": {},
   "outputs": [],
   "source": []
  }
 ],
 "metadata": {
  "kernelspec": {
   "display_name": "Python 3",
   "language": "python",
   "name": "python3"
  },
  "language_info": {
   "codemirror_mode": {
    "name": "ipython",
    "version": 3
   },
   "file_extension": ".py",
   "mimetype": "text/x-python",
   "name": "python",
   "nbconvert_exporter": "python",
   "pygments_lexer": "ipython3",
   "version": "3.10.12"
  },
  "orig_nbformat": 4
 },
 "nbformat": 4,
 "nbformat_minor": 2
}
