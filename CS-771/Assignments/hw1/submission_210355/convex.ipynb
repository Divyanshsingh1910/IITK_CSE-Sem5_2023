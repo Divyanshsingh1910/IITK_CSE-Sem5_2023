{
 "cells": [
  {
   "cell_type": "code",
   "execution_count": 18,
   "metadata": {},
   "outputs": [],
   "source": [
    "import numpy as np"
   ]
  },
  {
   "cell_type": "code",
   "execution_count": 19,
   "metadata": {},
   "outputs": [],
   "source": [
    "# Loading all the datasets\n",
    "\n",
    "X_seen=np.load('X_seen.npy',encoding='bytes',allow_pickle=True) #\t(40 x N_i x D): Seen training class\n",
    "\n",
    "Attr=np.load('class_attributes_seen.npy',encoding='bytes',allow_pickle=True) # (40 x 85): Seen class attributes\n",
    "\n",
    "UAttr=np.load('class_attributes_unseen.npy',encoding='bytes',allow_pickle=True) # (10 x 85): Unsee class atrributes\n",
    "\n",
    "Xtest=np.load('Xtest.npy',encoding='bytes',allow_pickle=True)\n",
    "Ytest=np.load('Ytest.npy',encoding='bytes',allow_pickle=True)"
   ]
  },
  {
   "cell_type": "code",
   "execution_count": 20,
   "metadata": {},
   "outputs": [
    {
     "name": "stdout",
     "output_type": "stream",
     "text": [
      "Shape of Mean is  (40, 4096)\n"
     ]
    }
   ],
   "source": [
    "# Calculating mean of the each of these classes\n",
    "\n",
    "Mean = np.zeros((40,4096)) #Mean will store all the 40 means\n",
    "\n",
    "\n",
    "for i in range(40):\n",
    "    Mean[i] = np.mean(X_seen[i],axis=0)\n",
    "\n",
    "print(\"Shape of Mean is \",Mean.shape)\n",
    "# printing shape for cross validation"
   ]
  },
  {
   "cell_type": "markdown",
   "metadata": {},
   "source": [
    "Calculating the Matrix $M$ of shape $10 \\times 40$ which contains $S_{(c,k)}$'s  \n",
    "of all the 10 classes for all 40 seen classes  \n",
    "$$M_{attr} = A_{unseen}A_{seen}^T$$"
   ]
  },
  {
   "cell_type": "code",
   "execution_count": 21,
   "metadata": {},
   "outputs": [
    {
     "name": "stdout",
     "output_type": "stream",
     "text": [
      "Shape of MAttr is  (10, 40)\n"
     ]
    }
   ],
   "source": [
    "MAtrr = np.matmul(UAttr,Attr.T) \n",
    "#MAttr is of shape (10,40) each row containg all the Sc,k without normalizing\n",
    "print(\"Shape of MAttr is \",MAtrr.shape)"
   ]
  },
  {
   "cell_type": "code",
   "execution_count": 22,
   "metadata": {},
   "outputs": [
    {
     "name": "stdout",
     "output_type": "stream",
     "text": [
      "sum of all the values of row 1 of M is  1.0\n"
     ]
    }
   ],
   "source": [
    "# Normalizing the Matrix MAttr\n",
    "\n",
    "MAtrr = MAtrr.astype(float) #converting values to floating point before normalization\n",
    "row_Sum = np.sum(MAtrr,axis=1,dtype=float) #calculation the \\sum(Sc,l) for each of the 40 l'set\n",
    "\n",
    "# Normalizing the values\n",
    "\n",
    "for i in range(row_Sum.shape[0]):\n",
    "    for j in range(MAtrr.shape[1]):\n",
    "        MAtrr[i][j] = MAtrr[i][j]/row_Sum[i]\n",
    "\n",
    "# cross validating sum of first row\n",
    "sum_row1 = np.sum(MAtrr[0],dtype=float)\n",
    "print(\"sum of all the values of row 1 of M is \",sum_row1)\n",
    "\n",
    "# ideally the sum should be 1"
   ]
  },
  {
   "cell_type": "markdown",
   "metadata": {},
   "source": [
    "### **Calculating the mean of unseen classes**  \n",
    "for each unseen class $c$ we have,\n",
    "\n",
    "$$ \\mu_c = \\sum_{k=1}^{40} s_{c,k}\\mu_k$$\n",
    "\n",
    "Let's calculate the matrix $M_{\\mu}$ of shape $10 \\times 4096$  \n",
    "containing mean $\\mu_c$'s for all the unseen classes\n",
    "\n",
    "$$ \\implies M_{\\mu} = M_{attr}X_{\\mu} $$ \n",
    "\n",
    "<center>\n",
    "\n",
    "where, $M_{\\mu} = $ \n",
    "                        $ \\begin{bmatrix}\n",
    "                            \\mu_{41} \\\\\n",
    "                            \\mu_{42} \\\\ \n",
    "                            .      \\\\  \n",
    "                            .      \\\\\n",
    "                            \\mu_{50} \\\\\n",
    "                        \\end{bmatrix}\n",
    "                        $\n",
    "\n",
    "Also, $X_{\\mu} = $\n",
    "                        $ \\begin{bmatrix}\n",
    "                            \\mu_{1} \\\\\n",
    "                            \\mu_{2} \\\\ \n",
    "                            .      \\\\  \n",
    "                            .      \\\\\n",
    "                            \\mu_{40} \\\\\n",
    "                        \\end{bmatrix}\n",
    "                        $\n",
    "\n",
    "</center>\n",
    "\n",
    "and $M_{attr}$ is the matrix containing normalized $S_{c,k}$'s calculated above\n"
   ]
  },
  {
   "cell_type": "code",
   "execution_count": 23,
   "metadata": {},
   "outputs": [
    {
     "name": "stdout",
     "output_type": "stream",
     "text": [
      "shape of UMean is  (10, 4096)\n"
     ]
    }
   ],
   "source": [
    "# UMean will store the mean of unseen classes\n",
    "# UMean = MAttr x Mean, UMean will be of shape 10,40\n",
    "\n",
    "UMean = np.matmul(MAtrr,Mean)\n",
    "print(\"shape of UMean is \",UMean.shape)"
   ]
  },
  {
   "cell_type": "markdown",
   "metadata": {},
   "source": [
    "### **Testing time**\n",
    "\n",
    "for each test input $x_*$ calculate $\\lVert x_*-\\mu_{c} \\rVert^2$ for each unseen class $c$"
   ]
  },
  {
   "cell_type": "code",
   "execution_count": 24,
   "metadata": {},
   "outputs": [
    {
     "name": "stdout",
     "output_type": "stream",
     "text": [
      "shape of D is (6180, 10)\n"
     ]
    }
   ],
   "source": [
    "N = Xtest.shape[0] # number of testing inputs\n",
    "\n",
    "D = np.ones((N,10),dtype=float) #this will have the all the corresponsing norms\n",
    "\n",
    "for i in range(N):\n",
    "    xi = Xtest[i]\n",
    "    for uc in range(UMean.shape[0]):\n",
    "        D[i][uc] = np.linalg.norm(xi-UMean[uc])\n",
    "\n",
    "print(\"shape of D is\",D.shape)"
   ]
  },
  {
   "cell_type": "code",
   "execution_count": 25,
   "metadata": {},
   "outputs": [
    {
     "name": "stdout",
     "output_type": "stream",
     "text": [
      "shape of Ypredicted is  (6180,)\n"
     ]
    }
   ],
   "source": [
    "# getting the predictions\n",
    "Ypredicted = np.argmin(D,axis = 1) + 1 #adding to make it 1 based indexing\n",
    "\n",
    "print(\"shape of Ypredicted is \",Ypredicted.shape)"
   ]
  },
  {
   "cell_type": "code",
   "execution_count": 26,
   "metadata": {},
   "outputs": [
    {
     "name": "stdout",
     "output_type": "stream",
     "text": [
      "Accuracy of the model is 46.89320388349515 %\n"
     ]
    }
   ],
   "source": [
    "# reshaping the array of true values\n",
    "Ytrue = Ytest.reshape(-1,)\n",
    "\n",
    "# calculating the correct prediction\n",
    "equals = (Ypredicted == Ytrue)\n",
    "Corrects = np.sum(equals)\n",
    "\n",
    "print(f\"Accuracy of the model is {Corrects*100/N} %\")"
   ]
  }
 ],
 "metadata": {
  "kernelspec": {
   "display_name": "Python 3",
   "language": "python",
   "name": "python3"
  },
  "language_info": {
   "codemirror_mode": {
    "name": "ipython",
    "version": 3
   },
   "file_extension": ".py",
   "mimetype": "text/x-python",
   "name": "python",
   "nbconvert_exporter": "python",
   "pygments_lexer": "ipython3",
   "version": "3.10.12"
  },
  "orig_nbformat": 4
 },
 "nbformat": 4,
 "nbformat_minor": 2
}
