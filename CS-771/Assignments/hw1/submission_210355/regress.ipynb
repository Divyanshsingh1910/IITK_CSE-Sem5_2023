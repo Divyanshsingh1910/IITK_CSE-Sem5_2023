{
 "cells": [
  {
   "cell_type": "code",
   "execution_count": 1,
   "metadata": {},
   "outputs": [],
   "source": [
    "import numpy as np"
   ]
  },
  {
   "cell_type": "code",
   "execution_count": 2,
   "metadata": {},
   "outputs": [],
   "source": [
    "# Loading all the datasets\n",
    "\n",
    "X_seen=np.load('X_seen.npy',encoding='bytes',allow_pickle=True) #\t(40 x N_i x D): Seen training class\n",
    "\n",
    "Attr=np.load('class_attributes_seen.npy',encoding='bytes',allow_pickle=True) # (40 x 85): Seen class attributes\n",
    "\n",
    "UAttr=np.load('class_attributes_unseen.npy',encoding='bytes',allow_pickle=True) # (10 x 85): Unsee class atrributes\n",
    "\n",
    "Xtest=np.load('Xtest.npy',encoding='bytes',allow_pickle=True)\n",
    "Ytest=np.load('Ytest.npy',encoding='bytes',allow_pickle=True)"
   ]
  },
  {
   "cell_type": "code",
   "execution_count": 3,
   "metadata": {},
   "outputs": [
    {
     "name": "stdout",
     "output_type": "stream",
     "text": [
      "Shape of Mean is  (40, 4096)\n"
     ]
    }
   ],
   "source": [
    "# Calculating mean of the each of these classes\n",
    "\n",
    "Mean = np.zeros((40,4096)) #Mean will store all the 40 means\n",
    "\n",
    "\n",
    "for i in range(40):\n",
    "    Mean[i] = np.mean(X_seen[i],axis=0)\n",
    "\n",
    "print(\"Shape of Mean is \",Mean.shape)\n",
    "# printing shape for cross validation"
   ]
  },
  {
   "cell_type": "code",
   "execution_count": 4,
   "metadata": {},
   "outputs": [],
   "source": [
    "# ensuring float dtype\n",
    "Mean = Mean.astype(float) # (40 x 4096) matrix containg the means of classes\n",
    "Attr = Attr.astype(float)  # (40 x 85) matrix containing class attributes"
   ]
  },
  {
   "cell_type": "markdown",
   "metadata": {},
   "source": [
    "### **Regression Model for Mean prediction**\n",
    "\n",
    "for given the attribute matrix $A_s$ and mean matrix $M_s$  \n",
    "we need to calculate the weight matrix $W$ of shape $85 \\times 4096$\n",
    " \n",
    "$$ W = (A_s^TA_s + \\lambda I)^{-1}A_s^T M_s $$\n",
    "\n",
    "So, I will first calculate $W_{left}$ which is equal to $(A_s^TA_s + \\lambda I)^{-1}$  \n",
    "then I will calculate $W_{right}$ which is $A_s^T M_s$\n"
   ]
  },
  {
   "cell_type": "code",
   "execution_count": 5,
   "metadata": {},
   "outputs": [
    {
     "name": "stdout",
     "output_type": "stream",
     "text": [
      "Shape of W is  (85, 4096)\n"
     ]
    }
   ],
   "source": [
    "# picking a random lambda for now\n",
    "lamda = 0.1\n",
    "\n",
    "W_l = np.matmul(Attr.T,Attr) + lamda*np.eye(85,85) #I need the inverse of this\n",
    "W_l = np.linalg.inv(W_l)\n",
    "\n",
    "W_r = np.matmul(Attr.T,Mean)\n",
    "\n",
    "W = np.matmul(W_l,W_r)\n",
    "\n",
    "print(\"Shape of W is \",W.shape)"
   ]
  },
  {
   "cell_type": "markdown",
   "metadata": {},
   "source": [
    "### **Predicting the mean of Unseen Classes**\n",
    "\n",
    "To get mean matrix of unsee classes we have,\n",
    "<boxed>\n",
    "$$ M_{unseen} = A_{unseen}W$$\n",
    "</boxed>\n"
   ]
  },
  {
   "cell_type": "code",
   "execution_count": 6,
   "metadata": {},
   "outputs": [
    {
     "name": "stdout",
     "output_type": "stream",
     "text": [
      "Shape of UMean is  (10, 4096)\n"
     ]
    }
   ],
   "source": [
    "UMean = np.matmul(UAttr,W)\n",
    "print(\"Shape of UMean is \",UMean.shape)"
   ]
  },
  {
   "cell_type": "markdown",
   "metadata": {},
   "source": [
    "### **Testing time**\n",
    "\n",
    "for each test input $x_*$ calculate $\\lVert x_*-\\mu_{c} \\rVert^2$ for each unseen class $c$"
   ]
  },
  {
   "cell_type": "code",
   "execution_count": 7,
   "metadata": {},
   "outputs": [
    {
     "name": "stdout",
     "output_type": "stream",
     "text": [
      "shape of D is (6180, 10)\n"
     ]
    }
   ],
   "source": [
    "N = Xtest.shape[0] # number of testing inputs\n",
    "\n",
    "D = np.ones((N,10),dtype=float) #this will have the all the corresponsing norms\n",
    "\n",
    "for i in range(N):\n",
    "    xi = Xtest[i]\n",
    "    for uc in range(UMean.shape[0]):\n",
    "        D[i][uc] = np.linalg.norm(xi-UMean[uc])\n",
    "\n",
    "print(\"shape of D is\",D.shape)"
   ]
  },
  {
   "cell_type": "code",
   "execution_count": 8,
   "metadata": {},
   "outputs": [
    {
     "name": "stdout",
     "output_type": "stream",
     "text": [
      "shape of Ypredicted is  (6180,)\n"
     ]
    }
   ],
   "source": [
    "# getting the predictions\n",
    "Ypredicted = np.argmin(D,axis = 1) + 1 #adding to make it 1 based indexing\n",
    "\n",
    "print(\"shape of Ypredicted is \",Ypredicted.shape)"
   ]
  },
  {
   "cell_type": "code",
   "execution_count": 9,
   "metadata": {},
   "outputs": [
    {
     "name": "stdout",
     "output_type": "stream",
     "text": [
      "Accuracy of the model with lambda = 0.1 is 59.54692556634304 %\n"
     ]
    }
   ],
   "source": [
    "# reshaping the array of true values\n",
    "Ytrue = Ytest.reshape(-1,)\n",
    "\n",
    "# calculating the correct prediction\n",
    "equals = (Ypredicted == Ytrue)\n",
    "Corrects = np.sum(equals)\n",
    "\n",
    "print(f\"Accuracy of the model with lambda = {lamda} is {Corrects*100/N} %\")"
   ]
  },
  {
   "cell_type": "markdown",
   "metadata": {},
   "source": [
    "### **Checking predictions of all the $\\lambda$'s**"
   ]
  },
  {
   "cell_type": "code",
   "execution_count": 11,
   "metadata": {},
   "outputs": [
    {
     "name": "stdout",
     "output_type": "stream",
     "text": [
      "Accuracy obtained for lambda = 0.01 is 58.090614886731395 %\n",
      "Accuracy obtained for lambda = 0.1 is 59.54692556634304 %\n",
      "Accuracy obtained for lambda = 1 is 67.3948220064725 %\n",
      "Accuracy obtained for lambda = 10 is 73.28478964401295 %\n",
      "Accuracy obtained for lambda = 20 is 71.68284789644012 %\n",
      "Accuracy obtained for lambda = 50 is 65.08090614886731 %\n",
      "Accuracy obtained for lambda = 100 is 56.47249190938511 %\n"
     ]
    }
   ],
   "source": [
    "lamda_set = [0.01, 0.1, 1, 10, 20, 50, 100]\n",
    "\n",
    "for lamda in lamda_set:\n",
    "    # calculate W\n",
    "    W_l = np.matmul(Attr.T,Attr) + lamda*np.eye(85,85)\n",
    "\n",
    "    W_l = np.linalg.inv(W_l)\n",
    "\n",
    "    W_r = np.matmul(Attr.T,Mean)\n",
    "\n",
    "    W = np.matmul(W_l,W_r)\n",
    "    # ------------------\n",
    "    # Get the Unseen_means\n",
    "    UMean = np.matmul(UAttr,W)\n",
    "\n",
    "    # generate the predictions\n",
    "\n",
    "    N = Xtest.shape[0]\n",
    "\n",
    "    D = np.ones((N,10),dtype=float)\n",
    "\n",
    "    for i in range(N):\n",
    "        xi = Xtest[i]\n",
    "        for uc in range(UMean.shape[0]):\n",
    "            D[i][uc] = np.linalg.norm(xi-UMean[uc])\n",
    "\n",
    "    # making predictions and accuracies\n",
    "\n",
    "    Ypredicted = np.argmin(D,axis = 1) + 1\n",
    "\n",
    "    equal = (Ypredicted == Ytrue)\n",
    "    C = np.sum(equal)\n",
    "\n",
    "    print(f\"Accuracy obtained for lambda = {lamda} is {C*100/N} %\")"
   ]
  },
  {
   "cell_type": "code",
   "execution_count": null,
   "metadata": {},
   "outputs": [],
   "source": []
  }
 ],
 "metadata": {
  "kernelspec": {
   "display_name": "Python 3",
   "language": "python",
   "name": "python3"
  },
  "language_info": {
   "codemirror_mode": {
    "name": "ipython",
    "version": 3
   },
   "file_extension": ".py",
   "mimetype": "text/x-python",
   "name": "python",
   "nbconvert_exporter": "python",
   "pygments_lexer": "ipython3",
   "version": "3.10.12"
  },
  "orig_nbformat": 4
 },
 "nbformat": 4,
 "nbformat_minor": 2
}
